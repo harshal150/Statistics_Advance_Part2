{
 "cells": [
  {
   "cell_type": "markdown",
   "id": "707066a8-1422-4d64-aa70-7624a05d1b01",
   "metadata": {},
   "source": [
    "Q1: What is Estimation Statistics? Explain point estimate and interval estimate.\n",
    "\n",
    "\n",
    "Estimation statistics is a branch of inferential statistics that deals with the estimation of population parameters based on sample statistics. It involves using sample data to make inferences about the population.\n",
    "\n",
    "\n",
    "There are two main types of estimation: point estimation and interval estimation.\n",
    "\n",
    "\n",
    "Point estimation involves using a single value, called the point estimate, to estimate the population parameter of interest. The point estimate is usually calculated from the sample data and is used as a best guess for the true value of the parameter. Common point estimates include the sample mean, sample proportion, and sample variance.\n",
    "\n",
    "\n",
    "Interval estimation involves using a range of values, called the confidence interval, to estimate the population parameter of interest. A confidence interval is constructed from the sample data and is used to provide a range of values within which the true value of the population parameter is likely to fall. The confidence interval is usually expressed as a range of values with an associated level of confidence. For example, a 95% confidence interval for the population mean would be a range of values within which we are 95% confident that the true value of the population mean falls.\n",
    "\n",
    "\n",
    "In general, interval estimation provides more information about the population parameter of interest than point estimation, as it provides a range of plausible values for the parameter rather than just a single estimate. However, interval estimation is generally more complex and computationally intensive than point estimation."
   ]
  },
  {
   "cell_type": "code",
   "execution_count": null,
   "id": "b4252d2b-a480-4c43-b1cf-029caee70b56",
   "metadata": {},
   "outputs": [],
   "source": []
  },
  {
   "cell_type": "markdown",
   "id": "bb18d7f4-c38b-4d65-bce3-4ab553a12b17",
   "metadata": {},
   "source": [
    "\n",
    "Q2. Write a Python function to estimate the population mean using a sample mean and standard deviation"
   ]
  },
  {
   "cell_type": "code",
   "execution_count": 2,
   "id": "a77fefd1-8ed3-464d-a217-b89212879a4d",
   "metadata": {},
   "outputs": [],
   "source": [
    "def estimate_population_mean(sample_mean, sample_std, sample_size):\n",
    "    \"\"\"\n",
    "    Calculates an estimate of the population mean given the sample mean, standard deviation, and sample size.\n",
    "    \"\"\"\n",
    "    standard_error = sample_std / (sample_size ** 0.5)\n",
    "    z_score = 1.96 # z-score for 95% confidence interval\n",
    "    margin_of_error = z_score * standard_error\n",
    "    lower_bound = sample_mean - margin_of_error\n",
    "    upper_bound = sample_mean + margin_of_error\n",
    "    return (lower_bound, upper_bound)"
   ]
  },
  {
   "cell_type": "code",
   "execution_count": null,
   "id": "2a6e9524-f37e-47ea-b49a-495270b8d0ed",
   "metadata": {},
   "outputs": [],
   "source": []
  },
  {
   "cell_type": "markdown",
   "id": "908339d0-62d7-46d2-84b1-4ef4664d4d9e",
   "metadata": {},
   "source": [
    "\n",
    "Q3: What is Hypothesis testing? Why is it used? State the importance of Hypothesis testing.\n",
    "\n",
    "\n",
    "Hypothesis testing is a statistical method used to determine if there is enough evidence to reject or fail to reject a proposed explanation or hypothesis about a population based on a sample of data. It involves setting up a null hypothesis, which assumes that there is no significant difference between the observed data and the expected population parameter, and an alternative hypothesis, which assumes that there is a significant difference between the observed data and the expected population parameter. The null hypothesis is tested using a statistical test, and the results are used to determine whether the null hypothesis can be rejected in favor of the alternative hypothesis.\n",
    "\n",
    "\n",
    "Hypothesis testing is used in many areas of research and business to make decisions based on data. For example, a pharmaceutical company might use hypothesis testing to determine whether a new drug is more effective than an existing drug, or a marketing company might use hypothesis testing to determine whether a new advertising campaign is more effective than an old one.\n",
    "\n",
    "\n",
    "The importance of hypothesis testing lies in its ability to provide a structured and objective way to evaluate evidence and draw conclusions based on data. By using hypothesis testing, researchers and analysts can avoid making decisions based on anecdotal evidence or personal biases and can make more informed decisions based on rigorous statistical analysis. Hypothesis testing also provides a framework for making decisions based on uncertainty, which is essential in many areas of research and business where decisions must be made based on incomplete or imperfect information."
   ]
  },
  {
   "cell_type": "code",
   "execution_count": null,
   "id": "749bd5e6-2a93-4964-981c-0bcafed3e96d",
   "metadata": {},
   "outputs": [],
   "source": []
  },
  {
   "cell_type": "markdown",
   "id": "87e64198-b6f6-4cae-9a59-250ec93f6547",
   "metadata": {},
   "source": [
    "Q4. Create a hypothesis that states whether the average weight of male college students is greater than the average weight of female college students.\n",
    "\n",
    "\n",
    "Hypothesis: The average weight of male college students is greater than the average weight of female college students.\n",
    "\n",
    "\n",
    "Null Hypothesis (H0): The average weight of male college students is not greater than the average weight of female college students. Alternative Hypothesis (HA): The average weight of male college students is greater than the average weight of female college students.\n",
    "\n",
    "\n",
    "We can test this hypothesis by collecting a random sample of male and female college students and calculating the mean weight for each group. We can then use a statistical test, such as a t-test, to determine whether the difference in mean weight between the two groups is statistically significant. If the p-value is less than the significance level (e.g. 0.05), we can reject the null hypothesis and conclude that the average weight of male college students is indeed greater than the average weight of female college students. If the p-value is greater than the significance level, we fail to reject the null hypothesis and conclude that there is not enough evidence to support the claim that the average weight of male college students is greater than the average weight of female college students."
   ]
  },
  {
   "cell_type": "code",
   "execution_count": null,
   "id": "c55e849c-1689-419f-a713-64e8bbb00a90",
   "metadata": {},
   "outputs": [],
   "source": []
  },
  {
   "cell_type": "markdown",
   "id": "c3fad0f2-5153-46fa-9e11-668adfc8630c",
   "metadata": {},
   "source": [
    "Q5. Write a Python script to conduct a hypothesis test on the difference between two population means, given a sample from each population."
   ]
  },
  {
   "cell_type": "code",
   "execution_count": 3,
   "id": "38ed612e-0d83-4023-ba06-10415bb4cc26",
   "metadata": {},
   "outputs": [
    {
     "name": "stdout",
     "output_type": "stream",
     "text": [
      "Sample 1 Mean: 3.0\n",
      "Sample 2 Mean: 5.0\n",
      "Sample 1 Standard Deviation: 1.5811388300841898\n",
      "Sample 2 Standard Deviation: 1.5811388300841898\n",
      "Degrees of Freedom: 8\n",
      "T-Statistic: -2.0\n",
      "P-Value: 0.08051623795726257\n"
     ]
    }
   ],
   "source": [
    "import numpy as np\n",
    "from scipy.stats import ttest_ind, zscore\n",
    "\n",
    "# Sample data from population 1\n",
    "pop1 = np.array([1, 2, 3, 4, 5])\n",
    "\n",
    "# Sample data from population 2\n",
    "pop2 = np.array([3, 4, 5, 6, 7])\n",
    "\n",
    "# Calculate the sample means\n",
    "mean1 = np.mean(pop1)\n",
    "mean2 = np.mean(pop2)\n",
    "\n",
    "# Calculate the sample standard deviations\n",
    "std1 = np.std(pop1, ddof=1)\n",
    "std2 = np.std(pop2, ddof=1)\n",
    "\n",
    "# Calculate the degrees of freedom\n",
    "dof = len(pop1) + len(pop2) - 2\n",
    "\n",
    "# Calculate the t-statistic and p-value\n",
    "t_stat, p_val = ttest_ind(pop1, pop2)\n",
    "\n",
    "# Print the results\n",
    "print(\"Sample 1 Mean:\", mean1)\n",
    "print(\"Sample 2 Mean:\", mean2)\n",
    "print(\"Sample 1 Standard Deviation:\", std1)\n",
    "print(\"Sample 2 Standard Deviation:\", std2)\n",
    "print(\"Degrees of Freedom:\", dof)\n",
    "print(\"T-Statistic:\", t_stat)\n",
    "print(\"P-Value:\", p_val)"
   ]
  },
  {
   "cell_type": "code",
   "execution_count": null,
   "id": "a9de0511-9a99-4102-9232-89156e37c31c",
   "metadata": {},
   "outputs": [],
   "source": []
  },
  {
   "cell_type": "markdown",
   "id": "79f558f4-fd0a-4150-ba58-586a7bb2de71",
   "metadata": {},
   "source": [
    "Q6: What is a null and alternative hypothesis? Give some examples.\n",
    "\n",
    "\n",
    "In hypothesis testing, a null hypothesis (H0) is a statement that assumes there is no difference or no relationship between the variables under investigation. An alternative hypothesis (Ha) is a statement that contradicts the null hypothesis, suggesting that there is a difference or a relationship between the variables.\n",
    "\n",
    "\n",
    "Here are some examples:\n",
    "\n",
    "    \n",
    "Null hypothesis: The average weight loss of participants in a weight loss program is not different from zero. Alternative hypothesis: The average weight loss of participants in a weight loss program is greater than zero.\n",
    "\n",
    "\n",
    "Null hypothesis: The mean IQ scores of two groups of students are the same. Alternative hypothesis: The mean IQ scores of the two groups of students are different.\n",
    "\n",
    "\n",
    "Null hypothesis: The rate of defective products produced by a machine is within the acceptable range. Alternative hypothesis: The rate of defective products produced by a machine is outside the acceptable range.\n",
    "\n",
    "\n",
    "Null hypothesis: There is no correlation between exercise and blood pressure. Alternative hypothesis: There is a correlation between exercise and blood pressure."
   ]
  },
  {
   "cell_type": "code",
   "execution_count": null,
   "id": "819a2e95-b1c2-4091-ab99-356e1b81918d",
   "metadata": {},
   "outputs": [],
   "source": []
  },
  {
   "cell_type": "markdown",
   "id": "627fcf41-c29f-42bc-80d0-9ea37d94cef1",
   "metadata": {},
   "source": [
    "Q7: Write down the steps involved in hypothesis testing.\n",
    "\n",
    "\n",
    "Hypothesis testing involves the following steps:\n",
    "\n",
    "    \n",
    "State the null hypothesis (H0) and alternative hypothesis (Ha): The null hypothesis assumes that there is no significant difference between the two groups being compared, while the alternative hypothesis assumes that there is a significant difference.\n",
    "\n",
    "\n",
    "Determine the level of significance (α): This represents the maximum probability of rejecting the null hypothesis when it is actually true. Typically, the level of significance is set at 0.05 or 0.01.\n",
    "\n",
    "\n",
    "Select an appropriate test statistic: The choice of test statistic depends on the nature of the hypothesis being tested, the type of data being analyzed, and the sample size.\n",
    "\n",
    "\n",
    "Determine the critical region: This is the range of values of the test statistic that would lead to rejection of the null hypothesis at the chosen level of significance. The critical region is determined based on the assumptions of the test and the distribution of the test statistic.\n",
    "\n",
    "\n",
    "Compute the test statistic: The test statistic is computed using the sample data.\n",
    "\n",
    "\n",
    "Compare the test statistic to the critical region: If the test statistic falls within the critical region, the null hypothesis is rejected in favor of the alternative hypothesis.\n",
    "\n",
    "\n",
    "Draw conclusions: Based on the results of the hypothesis test, conclusions can be drawn about the difference or relationship between the groups being compared."
   ]
  },
  {
   "cell_type": "code",
   "execution_count": null,
   "id": "663d4a9d-4190-417c-bdd6-879c950cd79d",
   "metadata": {},
   "outputs": [],
   "source": []
  },
  {
   "cell_type": "markdown",
   "id": "ff2edbdb-c5a0-4d27-a480-71151aa324c1",
   "metadata": {},
   "source": [
    "Q8. Define p-value and explain its significance in hypothesis testing\n",
    "\n",
    "\n",
    "The p-value is a statistical measure used to determine the level of significance of an observed result in hypothesis testing. It represents the probability of obtaining a test statistic as extreme or more extreme than the observed test statistic, assuming that the null hypothesis is true.\n",
    "\n",
    "\n",
    "In other words, the p-value represents the likelihood of observing the result, or a more extreme result, under the assumption that there is no true effect or difference between the two groups being compared. If the p-value is small, it suggests that the observed result is unlikely to occur by chance alone, and therefore provides evidence against the null hypothesis.\n",
    "\n",
    "\n",
    "In hypothesis testing, the p-value is used to make a decision about whether to reject or fail to reject the null hypothesis. If the p-value is smaller than the pre-determined significance level (usually set at 0.05 or 0.01), the null hypothesis is rejected in favor of the alternative hypothesis, indicating that the observed result is statistically significant. On the other hand, if the p-value is greater than the significance level, the null hypothesis is not rejected, indicating that the observed result is not statistically significant.\n",
    "\n",
    "\n",
    "The p-value is important in hypothesis testing because it provides a way to assess the strength of evidence against the null hypothesis. A smaller p-value indicates stronger evidence against the null hypothesis and suggests that the observed result is less likely to be due to chance. It is important to note that the p-value does not provide direct evidence in favor of the alternative hypothesis, but rather provides evidence against the null hypothesis."
   ]
  },
  {
   "cell_type": "code",
   "execution_count": null,
   "id": "f517a6ca-946b-4368-bd14-8eabb851486c",
   "metadata": {},
   "outputs": [],
   "source": []
  },
  {
   "cell_type": "markdown",
   "id": "a276a08d-f4ec-4798-9f13-4ab57737a72c",
   "metadata": {},
   "source": [
    "Q9. Generate a Student's t-distribution plot using Python's matplotlib library, with the degrees of freedom parameter set to 10."
   ]
  },
  {
   "cell_type": "code",
   "execution_count": 4,
   "id": "38f6b50d-e156-49b4-92ca-d875145246c9",
   "metadata": {},
   "outputs": [
    {
     "data": {
      "image/png": "[encoded data removed]",
      "text/plain": [
       "<Figure size 640x480 with 1 Axes>"
      ]
     },
     "metadata": {},
     "output_type": "display_data"
    }
   ],
   "source": [
    "import numpy as np\n",
    "import matplotlib.pyplot as plt\n",
    "from scipy.stats import t\n",
    "\n",
    "df = 10  # degrees of freedom\n",
    "\n",
    "x = np.linspace(-5, 5, 500)\n",
    "y = t.pdf(x, df)\n",
    "\n",
    "plt.plot(x, y)\n",
    "plt.title(\"Student's t-distribution with 10 degrees of freedom\")\n",
    "plt.xlabel('x')\n",
    "plt.ylabel('pdf(x)')\n",
    "plt.show()"
   ]
  },
  {
   "cell_type": "code",
   "execution_count": null,
   "id": "c40e226c-dd34-48cb-add9-05ef3fbd93c1",
   "metadata": {},
   "outputs": [],
   "source": []
  },
  {
   "cell_type": "markdown",
   "id": "af24d80d-8136-49d5-a0cf-e719038d9d7f",
   "metadata": {},
   "source": [
    "Q10. Write a Python program to calculate the two-sample t-test for independent samples, given two random samples of equal size and a null hypothesis that the population means are equal."
   ]
  },
  {
   "cell_type": "code",
   "execution_count": 5,
   "id": "13a6d5de-fb29-496c-a260-ee1e79a10d10",
   "metadata": {},
   "outputs": [
    {
     "name": "stdout",
     "output_type": "stream",
     "text": [
      "t-statistic: -7.858924443907528\n",
      "p-value: 2.4267899578315613e-13\n"
     ]
    }
   ],
   "source": [
    "import numpy as np\n",
    "from scipy.stats import ttest_ind\n",
    "\n",
    "# Generate two random samples of equal size\n",
    "sample1 = np.random.normal(loc=10, scale=2, size=100)\n",
    "sample2 = np.random.normal(loc=12, scale=2, size=100)\n",
    "\n",
    "# Calculate the t-test\n",
    "t_stat, p_value = ttest_ind(sample1, sample2)\n",
    "\n",
    "# Print the results\n",
    "print(\"t-statistic:\", t_stat)\n",
    "print(\"p-value:\", p_value)"
   ]
  },
  {
   "cell_type": "code",
   "execution_count": null,
   "id": "9885056b-f6a4-4b37-9725-d31b5456edfc",
   "metadata": {},
   "outputs": [],
   "source": []
  },
  {
   "cell_type": "markdown",
   "id": "1aeaa4c1-290e-481f-8daf-596f0e4d146f",
   "metadata": {},
   "source": [
    "Q11: What is Student’s t distribution? When to use the t-Distribution."
   ]
  },
  {
   "cell_type": "markdown",
   "id": "d6305095-0305-4ba7-9a36-13daa667d775",
   "metadata": {},
   "source": [
    "Q12: What is t-statistic? State the formula for t-statistic."
   ]
  },
  {
   "cell_type": "markdown",
   "id": "3e6aa4e3-ebde-4965-88eb-214437e253a7",
   "metadata": {},
   "source": [
    "Student's t-distribution, also known as the t-distribution, is a probability distribution that arises when estimating the mean of a normally distributed population with an unknown variance. It is used to make inferences about the population mean based on a sample of observations.\n",
    "\n",
    "The t-distribution has a bell-shaped curve, like the normal distribution, but with heavier tails. This means that it has more probability in the tails than the normal distribution. The shape of the t-distribution depends on a parameter called degrees of freedom (df), which is determined by the sample size.\n",
    "\n",
    "The t-distribution is used in hypothesis testing and confidence interval estimation when the population variance is unknown and the sample size is small. Specifically, when the sample size is less than 30 or the population variance is unknown, the t-distribution is used instead of the normal distribution to calculate the probability of obtaining a given sample mean. In these situations, the t-distribution provides a better approximation of the true sampling distribution of the mean.\n",
    "\n",
    "The t-distribution is also used in situations where the data are approximately normal, but the sample size is large. In this case, the t-distribution can be used as an approximation of the normal distribution.\n",
    "\n",
    "In summary, the t-distribution is a probability distribution that is used to make inferences about the population mean based on a sample of observations when the population variance is unknown and the sample size is small. It provides a better approximation of the true sampling distribution of the mean compared to the normal distribution in these situations.*"
   ]
  },
  {
   "cell_type": "markdown",
   "id": "73169fd0-80fd-408d-aa2f-2a7646140dda",
   "metadata": {},
   "source": [
    "The formula for t-statistic is:\n",
    "\n",
    "t = (x̄1 - x̄2) / (s√(1/n1 + 1/n2))\n",
    "\n",
    "where x̄1 and x̄2 are the sample means of the two groups, s is the pooled standard deviation of the two groups, n1 and n2 are the sample sizes of the two groups."
   ]
  },
  {
   "cell_type": "code",
   "execution_count": null,
   "id": "5b31c4fa-bd8a-4ac8-b74d-cb9a50d9c818",
   "metadata": {},
   "outputs": [],
   "source": []
  },
  {
   "cell_type": "markdown",
   "id": "99ea41a4-991c-4025-8a56-4867361640a9",
   "metadata": {},
   "source": [
    "Q13. A coffee shop owner wants to estimate the average daily revenue for their shop. They take a random sample of 50 days and find the sample mean revenue to be `500 with a standard deviation of $50. Estimate the population mean revenue with a 95% confidence interval."
   ]
  },
  {
   "cell_type": "code",
   "execution_count": 6,
   "id": "8be5f337-6d42-4f23-b6c2-22afe7577324",
   "metadata": {},
   "outputs": [
    {
     "name": "stdout",
     "output_type": "stream",
     "text": [
      "95% confidence interval: (485.79, 514.21)\n"
     ]
    }
   ],
   "source": [
    "import scipy.stats as stats\n",
    "import math\n",
    "\n",
    "sample_mean = 500\n",
    "sample_std = 50\n",
    "sample_size = 50\n",
    "confidence_level = 0.95\n",
    "\n",
    "# Calculate the t-value for a 95% confidence interval with 49 degrees of freedom\n",
    "t_value = stats.t.ppf((1 + confidence_level) / 2, sample_size - 1)\n",
    "\n",
    "# Calculate the standard error\n",
    "standard_error = sample_std / math.sqrt(sample_size)\n",
    "\n",
    "# Calculate the margin of error\n",
    "margin_of_error = t_value * standard_error\n",
    "\n",
    "# Calculate the confidence interval\n",
    "lower_bound = sample_mean - margin_of_error\n",
    "upper_bound = sample_mean + margin_of_error\n",
    "\n",
    "print(f\"95% confidence interval: ({lower_bound:.2f}, {upper_bound:.2f})\")"
   ]
  },
  {
   "cell_type": "code",
   "execution_count": null,
   "id": "e2e5c371-d449-4d1b-9107-d769f5c78255",
   "metadata": {},
   "outputs": [],
   "source": []
  },
  {
   "cell_type": "markdown",
   "id": "ac333495-d650-4c7c-9145-f5e38c6fcffc",
   "metadata": {},
   "source": [
    "Q14. A researcher hypothesizes that a new drug will decrease blood pressure by 10 mmHg. They conduct a clinical trial with 100 patients and find that the sample mean decrease in blood pressure is 8 mmHg with a standard deviation of 3 mmHg. Test the hypothesis with a significance level of 0.05."
   ]
  },
  {
   "cell_type": "markdown",
   "id": "3ece0b1e-a9ea-4a46-a1ff-886f1f89248b",
   "metadata": {},
   "source": [
    "To test the hypothesis, we can use a one-sample t-test with the null hypothesis stating that the true mean decrease in blood pressure is equal to 10 mmHg, and the alternative hypothesis stating that it is less than 10 mmHg. The test statistic is calculated as follows:\n",
    "\n",
    "t = (sample mean - hypothesized mean) / (standard error) where the standard error is calculated as the sample standard deviation divided by the square root of the sample size.\n",
    "\n",
    "So, in this case:\n",
    "\n",
    "hypothesized mean = 10 mmHg sample mean = 8 mmHg sample standard deviation = 3 mmHg sample size = 100\n",
    "\n",
    "The standard error is therefore:\n",
    "\n",
    "standard error = 3 / sqrt(100) = 0.3\n",
    "\n",
    "And the test statistic is:\n",
    "\n",
    "t = (8 - 10) / 0.3 = -6.67\n",
    "\n",
    "We can then compare this to the critical value from a t-distribution with 99 degrees of freedom (since we have 100 observations and are estimating one parameter), and a significance level of 0.05. Using a one-tailed test, the critical value is -1.66.\n",
    "\n",
    "Since our test statistic is less than the critical value, we can reject the null hypothesis and conclude that there is evidence to support the claim that the new drug decreases blood pressure by less than 10 mmHg."
   ]
  },
  {
   "cell_type": "code",
   "execution_count": null,
   "id": "f2f4bf60-163a-4e1e-b03e-8a85b95bfdf5",
   "metadata": {},
   "outputs": [],
   "source": []
  },
  {
   "cell_type": "markdown",
   "id": "4fb9210e-ad03-4a1e-9bfe-bdb01a880461",
   "metadata": {},
   "source": [
    "Q15. An electronics company produces a certain type of product with a mean weight of 5 pounds and a standard deviation of 0.5 pounds. A random sample of 25 products is taken, and the sample mean weight is found to be 4.8 pounds. Test the hypothesis that the true mean weight of the products is less than 5 pounds with a significance level of 0.01.\n",
    "\n",
    "\n",
    "Given:\n",
    "\n",
    "Mean weight of the product = 5 pounds Standard deviation = 0.5 pounds Sample size (n) = 25 Sample mean weight = 4.8 pounds Significance level (alpha) = 0.01 We need to test the hypothesis that the true mean weight of the products is less than 5 pounds.\n",
    "\n",
    "Null hypothesis: The true mean weight of the products is greater than or equal to 5 pounds. Alternate hypothesis: The true mean weight of the products is less than 5 pounds.\n",
    "\n",
    "We can use a one-tailed t-test to test this hypothesis. The test statistic is calculated as follows:\n",
    "\n",
    "t = (sample_mean - population_mean) / (standard_error / sqrt(n))\n",
    "\n",
    "where standard_error = standard_deviation / sqrt(n)\n",
    "\n",
    "The critical t-value is obtained from the t-distribution table with n-1 degrees of freedom and alpha level of 0.01.\n",
    "\n",
    "Using the above formulas, we get:\n",
    "\n",
    "standard_error = 0.5 / sqrt(25) = 0.1\n",
    "\n",
    "t = (4.8 - 5) / (0.1) = -2\n",
    "\n",
    "The critical t-value with 24 degrees of freedom and alpha level of 0.01 is -2.492.\n",
    "\n",
    "Since the calculated t-value (-2) is less than the critical t-value (-2.492), we reject the null hypothesis and conclude that the true mean weight of the products is less than 5 pounds at a significance level of 0.01.\n",
    "\n"
   ]
  },
  {
   "cell_type": "code",
   "execution_count": null,
   "id": "a771a609-b299-4879-a9a0-17e424821350",
   "metadata": {},
   "outputs": [],
   "source": []
  },
  {
   "cell_type": "markdown",
   "id": "70b5140e-2c07-4bd5-9fb5-3c85d6780aa6",
   "metadata": {},
   "source": [
    "Q16. Two groups of students are given different study materials to prepare for a test. The first group (n1 = 30) has a mean score of 80 with a standard deviation of 10, and the second group (n2 = 40) has a mean score of 75 with a standard deviation of 8. Test the hypothesis that the population means for the two groups are equal with a significance level of 0.01.\n",
    "\n",
    "\n",
    "To test the hypothesis that the population means for the two groups are equal, we can use a two-sample t-test for independent samples. The null and alternative hypotheses are:\n",
    "\n",
    "Null hypothesis: μ1 = μ2 Alternative hypothesis: μ1 ≠ μ2\n",
    "\n",
    "We will use a significance level of 0.01.\n",
    "\n",
    "First, we can calculate the pooled standard deviation:\n",
    "\n",
    "Sp = sqrt(((n1 - 1) * s1^2 + (n2 - 1) * s2^2) / (n1 + n2 - 2))\n",
    "\n",
    "where s1 and s2 are the sample standard deviations.\n",
    "\n",
    "Then, we can calculate the t-statistic:\n",
    "\n",
    "t = (x1 - x2) / (Sp * sqrt(1/n1 + 1/n2))\n",
    "\n",
    "where x1 and x2 are the sample means.\n",
    "\n",
    "Using a t-table or a t-distribution calculator with (n1 + n2 - 2) degrees of freedom and a significance level of 0.01, we find the critical values to be -2.583 and 2.583.\n",
    "\n",
    "If the calculated t-statistic falls outside this range, we reject the null hypothesis and conclude that the population means are different. Otherwise, we fail to reject the null hypothesis.\n",
    "\n",
    "Plugging in the values, we get:\n",
    "\n",
    "Sp = sqrt(((30 - 1) * 10^2 + (40 - 1) * 8^2) / (30 + 40 - 2)) = 8.671\n",
    "\n",
    "t = (80 - 75) / (8.671 * sqrt(1/30 + 1/40)) = 2.67\n",
    "\n",
    "Since 2.67 > 2.583, we reject the null hypothesis and conclude that the population means are different."
   ]
  },
  {
   "cell_type": "code",
   "execution_count": null,
   "id": "29d92b50-744e-44ad-9440-a592fd8a1b2b",
   "metadata": {},
   "outputs": [],
   "source": []
  },
  {
   "cell_type": "code",
   "execution_count": null,
   "id": "ee27a59f-3e2c-47db-9fdd-0dae67495b89",
   "metadata": {},
   "outputs": [],
   "source": []
  }
 ],
 "metadata": {
  "kernelspec": {
   "display_name": "Python 3 (ipykernel)",
   "language": "python",
   "name": "python3"
  },
  "language_info": {
   "codemirror_mode": {
    "name": "ipython",
    "version": 3
   },
   "file_extension": ".py",
   "mimetype": "text/x-python",
   "name": "python",
   "nbconvert_exporter": "python",
   "pygments_lexer": "ipython3",
   "version": "3.10.8"
  }
 },
 "nbformat": 4,
 "nbformat_minor": 5
}
